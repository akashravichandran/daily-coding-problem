{
 "cells": [
  {
   "cell_type": "code",
   "execution_count": 60,
   "metadata": {},
   "outputs": [],
   "source": [
    "\n",
    "with open('README.md') as f:\n",
    "    content = f.read()\n",
    "questions = content.split('Problem')\n",
    "filtered_questions = list(filter(lambda x : len(x) > 1, questions))\n",
    "print(filtered_questions[2:])"
   ]
  },
  {
   "cell_type": "code",
   "execution_count": 67,
   "metadata": {},
   "outputs": [
    {
     "data": {
      "text/plain": [
       "' 45)\\n\\n[Solution](solutions/problem_071.py)\\n\\n---\\n\\n#### '"
      ]
     },
     "execution_count": 67,
     "metadata": {},
     "output_type": "execute_result"
    }
   ],
   "source": [
    "filtered_questions.pop(73)"
   ]
  },
  {
   "cell_type": "code",
   "execution_count": 68,
   "metadata": {},
   "outputs": [
    {
     "data": {
      "text/plain": [
       "365"
      ]
     },
     "execution_count": 68,
     "metadata": {},
     "output_type": "execute_result"
    }
   ],
   "source": [
    "# len(filtered_questions[2:])"
   ]
  },
  {
   "cell_type": "code",
   "execution_count": 48,
   "metadata": {},
   "outputs": [],
   "source": [
    "import os\n",
    "import glob\n",
    "\n",
    "location = 'solutions/'\n",
    "solutions = []\n",
    "# for count, filename in enumerate(sorted(os.listdir(location)), start=1):\n",
    "#     print(filename)\n",
    "#     solutions.append(filename.read())\n",
    "# print(solutions)\n",
    "\n",
    "for r, d, f in os.walk(location):\n",
    "    for file in sorted(f):\n",
    "        solutions.append(open(os.path.join(r, file)).read() + '\\n' + os.path.join(r, file))"
   ]
  },
  {
   "cell_type": "code",
   "execution_count": 72,
   "metadata": {},
   "outputs": [],
   "source": [
    "create_nb = {'nbformat': 4, 'nbformat_minor': 2, \n",
    "              'cells': [], 'metadata': \n",
    "             {\"kernelspec\": \n",
    "              {\"display_name\": \"Python 3\", \n",
    "               \"language\": \"python\", \"name\": \"python3\"\n",
    "}}}"
   ]
  },
  {
   "cell_type": "code",
   "execution_count": 76,
   "metadata": {},
   "outputs": [],
   "source": [
    "import json \n",
    "\n",
    "\n",
    "for i, j in zip(filtered_questions[2:], solutions):\n",
    "    cell = {}\n",
    "    cell['metadata'] = {}\n",
    "    cell['source'] = [i + '\\n\\n']\n",
    "    cell['cell_type'] = 'markdown'\n",
    "    create_nb['cells'].append(cell)\n",
    "    \n",
    "    cell = {}\n",
    "    cell['metadata'] = {}\n",
    "    cell['outputs'] = []\n",
    "    cell['source'] = [j]\n",
    "    cell['execution_count'] = None\n",
    "    cell['cell_type'] = 'code'\n",
    "    create_nb['cells'].append(cell)\n",
    "    \n",
    "# print(create_nb)\n",
    "\n",
    "with open('dcp.ipynb', 'w') as jynotebook:\n",
    "    jynotebook.write(json.dumps(create_nb))"
   ]
  },
  {
   "cell_type": "code",
   "execution_count": null,
   "metadata": {},
   "outputs": [],
   "source": []
  }
 ],
 "metadata": {
  "kernelspec": {
   "display_name": "Python 3",
   "language": "python",
   "name": "python3"
  },
  "language_info": {
   "codemirror_mode": {
    "name": "ipython",
    "version": 3
   },
   "file_extension": ".py",
   "mimetype": "text/x-python",
   "name": "python",
   "nbconvert_exporter": "python",
   "pygments_lexer": "ipython3",
   "version": "3.7.4"
  }
 },
 "nbformat": 4,
 "nbformat_minor": 4
}
