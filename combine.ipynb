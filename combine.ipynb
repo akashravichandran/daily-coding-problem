{
 "cells": [
  {
   "cell_type": "code",
   "execution_count": 1,
   "metadata": {
    "tags": [
     "outputPrepend"
    ]
   },
   "outputs": [],
   "source": [
    "\n",
    "with open('README.md') as f:\n",
    "    content = f.read()\n",
    "questions = content.split('# Problem')\n",
    "# filtered_questions = list(filter(lambda x : len(x) > 1, questions))\n",
    "# print(filtered_questions[2:])"
   ]
  },
  {
   "cell_type": "code",
   "execution_count": 2,
   "metadata": {
    "tags": [
     "outputPrepend"
    ]
   },
   "outputs": [
    {
     "output_type": "execute_result",
     "data": {
      "text/plain": "366"
     },
     "metadata": {},
     "execution_count": 2
    }
   ],
   "source": [
    "len(questions)"
   ]
  },
  {
   "cell_type": "code",
   "execution_count": 3,
   "metadata": {},
   "outputs": [],
   "source": [
    "new_q = []\n",
    "for i, question in enumerate(questions[1:]):\n",
    "    new_ques = question.split('\\n\\n')\n",
    "    new_ques = new_ques[:-3]\n",
    "    new_ques[0] = 'Question' + new_ques[0]\n",
    "    new_q.append('\\n\\n'.join(new_ques) + '\\n\\n' + 'Answer ' + str(i+1) + '\\n')"
   ]
  },
  {
   "cell_type": "code",
   "execution_count": 4,
   "metadata": {},
   "outputs": [],
   "source": [
    "import os\n",
    "import glob\n",
    "\n",
    "location = 'solutions/'\n",
    "solutions = []\n",
    "# for count, filename in enumerate(sorted(os.listdir(location)), start=1):\n",
    "#     print(filename)\n",
    "#     solutions.append(filename.read())\n",
    "# print(solutions)\n",
    "\n",
    "for r, d, f in os.walk(location):\n",
    "    for file in sorted(f):\n",
    "        solutions.append('\\n' + open(os.path.join(r, file)).read())"
   ]
  },
  {
   "cell_type": "code",
   "execution_count": 5,
   "metadata": {},
   "outputs": [],
   "source": [
    "create_nb = {'nbformat': 4, 'nbformat_minor': 2, \n",
    "              'cells': [], 'metadata': \n",
    "             {\"kernelspec\": \n",
    "              {\"display_name\": \"Python 3\", \n",
    "               \"language\": \"python\", \"name\": \"python3\"\n",
    "}}}"
   ]
  },
  {
   "cell_type": "code",
   "execution_count": 6,
   "metadata": {},
   "outputs": [],
   "source": [
    "import json \n",
    "\n",
    "\n",
    "for i, j in zip(new_q, solutions):\n",
    "    cell = {}\n",
    "    cell['metadata'] = {}\n",
    "    cell['source'] = ['\\n\\n' + i + '\\n\\n']\n",
    "    cell['cell_type'] = 'markdown'\n",
    "    create_nb['cells'].append(cell)\n",
    "    \n",
    "    cell = {}\n",
    "    cell['metadata'] = {}\n",
    "    cell['outputs'] = []\n",
    "    cell['source'] = [j]\n",
    "    cell['execution_count'] = None\n",
    "    cell['cell_type'] = 'code'\n",
    "    create_nb['cells'].append(cell)\n",
    "    \n",
    "# print(create_nb)\n",
    "\n",
    "with open('dcp2.ipynb', 'w') as jynotebook:\n",
    "    jynotebook.write(json.dumps(create_nb))"
   ]
  },
  {
   "cell_type": "code",
   "execution_count": 7,
   "metadata": {},
   "outputs": [
    {
     "output_type": "stream",
     "name": "stdout",
     "text": "[NbConvertApp] Converting notebook dcp2.ipynb to markdown\n[NbConvertApp] Writing 500564 bytes to dcp.md\n"
    }
   ],
   "source": [
    "! jupyter nbconvert dcp2.ipynb --to markdown --output dcp.md"
   ]
  },
  {
   "cell_type": "code",
   "execution_count": null,
   "metadata": {},
   "outputs": [],
   "source": []
  }
 ],
 "metadata": {
  "kernelspec": {
   "display_name": "Python 3",
   "language": "python",
   "name": "python3"
  },
  "language_info": {
   "codemirror_mode": {
    "name": "ipython",
    "version": 3
   },
   "file_extension": ".py",
   "mimetype": "text/x-python",
   "name": "python",
   "nbconvert_exporter": "python",
   "pygments_lexer": "ipython3",
   "version": "3.8.2-final"
  }
 },
 "nbformat": 4,
 "nbformat_minor": 4
}